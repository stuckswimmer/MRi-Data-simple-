{
 "cells": [
  {
   "cell_type": "markdown",
   "metadata": {},
   "source": [
    "# Support Vector Machine notebook (Male)"
   ]
  },
  {
   "cell_type": "code",
   "execution_count": 1,
   "metadata": {},
   "outputs": [],
   "source": [
    "#import necessary packages\n",
    "import pandas as pd\n",
    "import numpy as np\n",
    "import matplotlib.pyplot as plt\n",
    "import seaborn as sns\n",
    "\n",
    "from sklearn.model_selection import train_test_split\n",
    "from sklearn.preprocessing import StandardScaler\n",
    "from sklearn.svm import SVC\n",
    "from sklearn.metrics import mean_absolute_error, accuracy_score\n",
    "from sklearn.utils.multiclass import unique_labels\n",
    "from sklearn.metrics import confusion_matrix\n",
    "from sklearn.metrics import classification_report\n",
    "from sklearn.metrics import roc_curve, auc\n",
    "from sklearn.metrics import precision_recall_curve\n",
    "from sklearn.model_selection import StratifiedShuffleSplit, cross_val_score\n",
    "from sklearn.model_selection import GridSearchCV, StratifiedKFold\n",
    "from sklearn.preprocessing import LabelEncoder"
   ]
  },
  {
   "cell_type": "code",
   "execution_count": 2,
   "metadata": {},
   "outputs": [
    {
     "name": "stdout",
     "output_type": "stream",
     "text": [
      "(2436, 453)\n",
      "   lh_bankssts_area  lh_caudalanteriorcingulate_area  \\\n",
      "0               879                              528   \n",
      "1               845                              525   \n",
      "2               884                              605   \n",
      "3               846                              612   \n",
      "4               834                              324   \n",
      "\n",
      "   lh_caudalmiddlefrontal_area  lh_cuneus_area  lh_entorhinal_area  \\\n",
      "0                         1968            1072                 253   \n",
      "1                         1892            1064                 285   \n",
      "2                         2093            1449                 524   \n",
      "3                         2035            1485                 521   \n",
      "4                         2140            1518                 309   \n",
      "\n",
      "   lh_fusiform_area  lh_inferiorparietal_area  lh_inferiortemporal_area  \\\n",
      "0              2307                      3573                      2445   \n",
      "1              2232                      3670                      2383   \n",
      "2              3174                      4500                      3532   \n",
      "3              3223                      4575                      3549   \n",
      "4              2555                      3862                      2287   \n",
      "\n",
      "   lh_isthmuscingulate_area  lh_lateraloccipital_area  ...   right_CA4  \\\n",
      "0                       778                      3762  ...  139.364354   \n",
      "1                       671                      3692  ...  131.674971   \n",
      "2                      1060                      4724  ...  239.586157   \n",
      "3                      1077                      4810  ...  237.059429   \n",
      "4                       999                      3926  ...  176.551033   \n",
      "\n",
      "   right_fimbria  right_HATA  right_Whole_hippocampus  Study         SID  \\\n",
      "0      46.105687   30.590374              1762.601968   ADNI  100_S_0893   \n",
      "1      41.631790   32.048392              1747.481860   ADNI  100_S_0893   \n",
      "2      35.914880   60.608920              3047.069487   ADNI  100_S_1062   \n",
      "3      33.613058   59.398536              3059.777462   ADNI  100_S_1062   \n",
      "4      32.096342   34.127632              2208.919115   ADNI  100_S_1113   \n",
      "\n",
      "   total CNR  Gender  Research Group   Age  \n",
      "0      1.444       F              AD  85.9  \n",
      "1      1.429       F              AD  85.9  \n",
      "2      1.703       M              AD  82.0  \n",
      "3      1.700       M              AD  82.0  \n",
      "4      1.442       F              AD  79.3  \n",
      "\n",
      "[5 rows x 453 columns]\n",
      "<class 'pandas.core.frame.DataFrame'>\n",
      "RangeIndex: 2436 entries, 0 to 2435\n",
      "Columns: 453 entries, lh_bankssts_area to Age\n",
      "dtypes: float64(291), int64(158), object(4)\n",
      "memory usage: 8.4+ MB\n",
      "None\n",
      "       lh_bankssts_area  lh_caudalanteriorcingulate_area  \\\n",
      "count       2436.000000                      2436.000000   \n",
      "mean         902.048440                       581.330460   \n",
      "std          156.934567                       128.438189   \n",
      "min          381.000000                       152.000000   \n",
      "25%          797.000000                       493.000000   \n",
      "50%          891.000000                       563.000000   \n",
      "75%          993.250000                       651.000000   \n",
      "max         1524.000000                      1286.000000   \n",
      "\n",
      "       lh_caudalmiddlefrontal_area  lh_cuneus_area  lh_entorhinal_area  \\\n",
      "count                  2436.000000     2436.000000         2436.000000   \n",
      "mean                   2092.951970     1416.997947          432.761494   \n",
      "std                     330.714676      216.333131           90.279640   \n",
      "min                     751.000000      630.000000            0.000000   \n",
      "25%                    1857.000000     1271.000000          368.000000   \n",
      "50%                    2076.500000     1402.000000          427.000000   \n",
      "75%                    2299.000000     1555.000000          489.250000   \n",
      "max                    4119.000000     2594.000000          802.000000   \n",
      "\n",
      "       lh_fusiform_area  lh_inferiorparietal_area  lh_inferiortemporal_area  \\\n",
      "count       2436.000000               2436.000000               2436.000000   \n",
      "mean        2874.003695               4044.371921               3055.556650   \n",
      "std          381.236335                609.448850                503.888476   \n",
      "min         1269.000000               2117.000000               1421.000000   \n",
      "25%         2614.000000               3605.000000               2695.000000   \n",
      "50%         2865.000000               4002.000000               3041.500000   \n",
      "75%         3107.000000               4436.250000               3384.000000   \n",
      "max         4783.000000               6430.000000               4701.000000   \n",
      "\n",
      "       lh_isthmuscingulate_area  lh_lateraloccipital_area  ...  \\\n",
      "count               2436.000000               2436.000000  ...   \n",
      "mean                 968.612479               4682.406404  ...   \n",
      "std                  165.497446                639.889279  ...   \n",
      "min                  307.000000               2750.000000  ...   \n",
      "25%                  852.750000               4245.000000  ...   \n",
      "50%                  958.000000               4652.000000  ...   \n",
      "75%                 1070.000000               5063.250000  ...   \n",
      "max                 2992.000000               7202.000000  ...   \n",
      "\n",
      "       right_parasubiculum  right_molecular_layer_HP  right_GC-ML-DG  \\\n",
      "count          2436.000000               2436.000000     2436.000000   \n",
      "mean             54.518258                491.477405      263.388961   \n",
      "std              14.264249                 90.379302       46.896189   \n",
      "min               8.095381                 88.737781       45.928781   \n",
      "25%              44.822743                429.031827      233.781913   \n",
      "50%              53.779396                503.008173      266.522111   \n",
      "75%              63.621572                554.578432      294.717773   \n",
      "max             109.832087                769.839104      460.556911   \n",
      "\n",
      "         right_CA3    right_CA4  right_fimbria   right_HATA  \\\n",
      "count  2436.000000  2436.000000    2436.000000  2436.000000   \n",
      "mean    195.662069   230.069328      56.890938    54.665105   \n",
      "std      38.857186    39.272962      24.027811    12.148960   \n",
      "min      36.802551    38.912300       2.709424    10.371425   \n",
      "25%     170.601047   205.166625      38.992687    46.278006   \n",
      "50%     197.888955   233.108788      57.067483    55.795836   \n",
      "75%     220.748034   255.863790      73.552661    63.104403   \n",
      "max     360.750310   404.072696     162.942636    98.187927   \n",
      "\n",
      "       right_Whole_hippocampus    total CNR          Age  \n",
      "count              2436.000000  2436.000000  2436.000000  \n",
      "mean               3020.593039     1.271856    73.325952  \n",
      "std                 517.268324     0.255765     7.414696  \n",
      "min                 529.979516     0.332000    55.090000  \n",
      "25%                2676.304962     1.112000    68.800000  \n",
      "50%                3077.679563     1.273000    73.100000  \n",
      "75%                3395.404114     1.444000    78.300000  \n",
      "max                4585.582547     2.040000    91.100000  \n",
      "\n",
      "[8 rows x 449 columns]\n"
     ]
    }
   ],
   "source": [
    "alzheimer = pd.read_csv('adni_ixi_rois_data_raw.csv', delimiter=',',header=0)\n",
    "print(alzheimer.shape)\n",
    "print(alzheimer.head())\n",
    "print(alzheimer.info())\n",
    "print(alzheimer.describe())"
   ]
  },
  {
   "cell_type": "code",
   "execution_count": 3,
   "metadata": {},
   "outputs": [
    {
     "data": {
      "text/html": [
       "<div>\n",
       "<style scoped>\n",
       "    .dataframe tbody tr th:only-of-type {\n",
       "        vertical-align: middle;\n",
       "    }\n",
       "\n",
       "    .dataframe tbody tr th {\n",
       "        vertical-align: top;\n",
       "    }\n",
       "\n",
       "    .dataframe thead th {\n",
       "        text-align: right;\n",
       "    }\n",
       "</style>\n",
       "<table border=\"1\" class=\"dataframe\">\n",
       "  <thead>\n",
       "    <tr style=\"text-align: right;\">\n",
       "      <th></th>\n",
       "      <th>Total</th>\n",
       "      <th>Percent</th>\n",
       "    </tr>\n",
       "  </thead>\n",
       "  <tbody>\n",
       "    <tr>\n",
       "      <td>Age</td>\n",
       "      <td>0</td>\n",
       "      <td>0.0</td>\n",
       "    </tr>\n",
       "    <tr>\n",
       "      <td>lh_superiortemporal_volume</td>\n",
       "      <td>0</td>\n",
       "      <td>0.0</td>\n",
       "    </tr>\n",
       "    <tr>\n",
       "      <td>lh_caudalmiddlefrontal_volume</td>\n",
       "      <td>0</td>\n",
       "      <td>0.0</td>\n",
       "    </tr>\n",
       "    <tr>\n",
       "      <td>lh_cuneus_volume</td>\n",
       "      <td>0</td>\n",
       "      <td>0.0</td>\n",
       "    </tr>\n",
       "    <tr>\n",
       "      <td>lh_entorhinal_volume</td>\n",
       "      <td>0</td>\n",
       "      <td>0.0</td>\n",
       "    </tr>\n",
       "    <tr>\n",
       "      <td>...</td>\n",
       "      <td>...</td>\n",
       "      <td>...</td>\n",
       "    </tr>\n",
       "    <tr>\n",
       "      <td>rh_superiortemporal_thickness</td>\n",
       "      <td>0</td>\n",
       "      <td>0.0</td>\n",
       "    </tr>\n",
       "    <tr>\n",
       "      <td>rh_supramarginal_thickness</td>\n",
       "      <td>0</td>\n",
       "      <td>0.0</td>\n",
       "    </tr>\n",
       "    <tr>\n",
       "      <td>rh_frontalpole_thickness</td>\n",
       "      <td>0</td>\n",
       "      <td>0.0</td>\n",
       "    </tr>\n",
       "    <tr>\n",
       "      <td>rh_temporalpole_thickness</td>\n",
       "      <td>0</td>\n",
       "      <td>0.0</td>\n",
       "    </tr>\n",
       "    <tr>\n",
       "      <td>lh_bankssts_area</td>\n",
       "      <td>0</td>\n",
       "      <td>0.0</td>\n",
       "    </tr>\n",
       "  </tbody>\n",
       "</table>\n",
       "<p>453 rows × 2 columns</p>\n",
       "</div>"
      ],
      "text/plain": [
       "                               Total  Percent\n",
       "Age                                0      0.0\n",
       "lh_superiortemporal_volume         0      0.0\n",
       "lh_caudalmiddlefrontal_volume      0      0.0\n",
       "lh_cuneus_volume                   0      0.0\n",
       "lh_entorhinal_volume               0      0.0\n",
       "...                              ...      ...\n",
       "rh_superiortemporal_thickness      0      0.0\n",
       "rh_supramarginal_thickness         0      0.0\n",
       "rh_frontalpole_thickness           0      0.0\n",
       "rh_temporalpole_thickness          0      0.0\n",
       "lh_bankssts_area                   0      0.0\n",
       "\n",
       "[453 rows x 2 columns]"
      ]
     },
     "execution_count": 3,
     "metadata": {},
     "output_type": "execute_result"
    }
   ],
   "source": [
    "#Check for missign values\n",
    "total=alzheimer.isnull().sum().sort_values(ascending=False)\n",
    "percent = round(alzheimer.isnull().sum().sort_values(ascending = False)/len(alzheimer)*100, 2)\n",
    "pd.concat([total, percent], axis = 1,keys= ['Total', 'Percent'])\n"
   ]
  },
  {
   "cell_type": "code",
   "execution_count": 4,
   "metadata": {},
   "outputs": [
    {
     "name": "stdout",
     "output_type": "stream",
     "text": [
      "(2436, 441)\n",
      "   lh_bankssts_area  lh_caudalanteriorcingulate_area  \\\n",
      "0               879                              528   \n",
      "1               845                              525   \n",
      "2               884                              605   \n",
      "3               846                              612   \n",
      "4               834                              324   \n",
      "\n",
      "   lh_caudalmiddlefrontal_area  lh_cuneus_area  lh_entorhinal_area  \\\n",
      "0                         1968            1072                 253   \n",
      "1                         1892            1064                 285   \n",
      "2                         2093            1449                 524   \n",
      "3                         2035            1485                 521   \n",
      "4                         2140            1518                 309   \n",
      "\n",
      "   lh_fusiform_area  lh_inferiorparietal_area  lh_inferiortemporal_area  \\\n",
      "0              2307                      3573                      2445   \n",
      "1              2232                      3670                      2383   \n",
      "2              3174                      4500                      3532   \n",
      "3              3223                      4575                      3549   \n",
      "4              2555                      3862                      2287   \n",
      "\n",
      "   lh_isthmuscingulate_area  lh_lateraloccipital_area  ...   right_CA4  \\\n",
      "0                       778                      3762  ...  139.364354   \n",
      "1                       671                      3692  ...  131.674971   \n",
      "2                      1060                      4724  ...  239.586157   \n",
      "3                      1077                      4810  ...  237.059429   \n",
      "4                       999                      3926  ...  176.551033   \n",
      "\n",
      "   right_fimbria  right_HATA  right_Whole_hippocampus  Study         SID  \\\n",
      "0      46.105687   30.590374              1762.601968   ADNI  100_S_0893   \n",
      "1      41.631790   32.048392              1747.481860   ADNI  100_S_0893   \n",
      "2      35.914880   60.608920              3047.069487   ADNI  100_S_1062   \n",
      "3      33.613058   59.398536              3059.777462   ADNI  100_S_1062   \n",
      "4      32.096342   34.127632              2208.919115   ADNI  100_S_1113   \n",
      "\n",
      "   total CNR  Gender  Research Group   Age  \n",
      "0      1.444       F              AD  85.9  \n",
      "1      1.429       F              AD  85.9  \n",
      "2      1.703       M              AD  82.0  \n",
      "3      1.700       M              AD  82.0  \n",
      "4      1.442       F              AD  79.3  \n",
      "\n",
      "[5 rows x 441 columns]\n",
      "(2288, 441)\n",
      "      lh_bankssts_area  lh_caudalanteriorcingulate_area  \\\n",
      "2237              1382                              399   \n",
      "2236              1031                              604   \n",
      "2235              1115                              604   \n",
      "2234               984                              601   \n",
      "2233              1039                              514   \n",
      "\n",
      "      lh_caudalmiddlefrontal_area  lh_cuneus_area  lh_entorhinal_area  \\\n",
      "2237                         2328            1713                 536   \n",
      "2236                         2334            1628                 382   \n",
      "2235                         2674            1805                 406   \n",
      "2234                         2513            1494                 575   \n",
      "2233                         2305            1964                 463   \n",
      "\n",
      "      lh_fusiform_area  lh_inferiorparietal_area  lh_inferiortemporal_area  \\\n",
      "2237              4280                      5523                      4045   \n",
      "2236              2709                      5016                      3545   \n",
      "2235              3016                      4097                      3914   \n",
      "2234              3185                      4272                      3073   \n",
      "2233              2556                      4071                      3352   \n",
      "\n",
      "      lh_isthmuscingulate_area  lh_lateraloccipital_area  ...   right_CA4  \\\n",
      "2237                      1022                      6031  ...  287.212829   \n",
      "2236                      1016                      4832  ...  289.871663   \n",
      "2235                      1118                      5696  ...  246.339139   \n",
      "2234                      1052                      5230  ...  187.242928   \n",
      "2233                       878                      4416  ...  224.490948   \n",
      "\n",
      "      right_fimbria  right_HATA  right_Whole_hippocampus  Study     SID  \\\n",
      "2237      74.974884   54.493342              3882.966300    IXI  IXI644   \n",
      "2236      70.153087   58.565645              3856.295349    IXI  IXI642   \n",
      "2235      80.385572   75.328050              3235.844961    IXI  IXI641   \n",
      "2234      34.821851   43.009258              2389.976861    IXI  IXI640   \n",
      "2233      20.345650   61.261824              2889.937633    IXI  IXI639   \n",
      "\n",
      "      total CNR  Gender  Research Group    Age  \n",
      "2237      1.355       M              CN  56.87  \n",
      "2236      1.231       M              CN  57.07  \n",
      "2235      1.309       M              CN  68.12  \n",
      "2234      1.436       M              CN  80.80  \n",
      "2233      1.625       M              CN  86.20  \n",
      "\n",
      "[5 rows x 441 columns]\n",
      "(2288, 441)\n"
     ]
    }
   ],
   "source": [
    "#Remove attributes with 0s and systematically inconsistent\n",
    "alzheimers=alzheimer.drop(['eTIV', '5th-Ventricle', 'Left-WM-hypointensities','Right-WM-hypointensities','non-WM-hypointensities','Left-non-WM-hypointensities','Right-non-WM-hypointensities','Left-vessel','Right-vessel','lhSurfaceHoles','rhSurfaceHoles','SurfaceHoles'], axis = 1)\n",
    "print(alzheimers.shape)\n",
    "\n",
    "noisefiltered=alzheimers[alzheimers['total CNR']>0.9]\n",
    "print(noisefiltered.head())\n",
    "print(noisefiltered.shape)\n",
    "\n",
    "sortedfiltered=noisefiltered.sort_values('SID', ascending=False)\n",
    "print(sortedfiltered.head())\n",
    "print(sortedfiltered.shape)"
   ]
  },
  {
   "cell_type": "code",
   "execution_count": 5,
   "metadata": {},
   "outputs": [
    {
     "name": "stdout",
     "output_type": "stream",
     "text": [
      "      lh_bankssts_area  lh_caudalanteriorcingulate_area  \\\n",
      "2237              1382                              399   \n",
      "2236              1031                              604   \n",
      "2235              1115                              604   \n",
      "2234               984                              601   \n",
      "2233              1039                              514   \n",
      "\n",
      "      lh_caudalmiddlefrontal_area  lh_cuneus_area  lh_entorhinal_area  \\\n",
      "2237                         2328            1713                 536   \n",
      "2236                         2334            1628                 382   \n",
      "2235                         2674            1805                 406   \n",
      "2234                         2513            1494                 575   \n",
      "2233                         2305            1964                 463   \n",
      "\n",
      "      lh_fusiform_area  lh_inferiorparietal_area  lh_inferiortemporal_area  \\\n",
      "2237              4280                      5523                      4045   \n",
      "2236              2709                      5016                      3545   \n",
      "2235              3016                      4097                      3914   \n",
      "2234              3185                      4272                      3073   \n",
      "2233              2556                      4071                      3352   \n",
      "\n",
      "      lh_isthmuscingulate_area  lh_lateraloccipital_area  ...   right_CA4  \\\n",
      "2237                      1022                      6031  ...  287.212829   \n",
      "2236                      1016                      4832  ...  289.871663   \n",
      "2235                      1118                      5696  ...  246.339139   \n",
      "2234                      1052                      5230  ...  187.242928   \n",
      "2233                       878                      4416  ...  224.490948   \n",
      "\n",
      "      right_fimbria  right_HATA  right_Whole_hippocampus  Study     SID  \\\n",
      "2237      74.974884   54.493342              3882.966300    IXI  IXI644   \n",
      "2236      70.153087   58.565645              3856.295349    IXI  IXI642   \n",
      "2235      80.385572   75.328050              3235.844961    IXI  IXI641   \n",
      "2234      34.821851   43.009258              2389.976861    IXI  IXI640   \n",
      "2233      20.345650   61.261824              2889.937633    IXI  IXI639   \n",
      "\n",
      "      total CNR  Gender  Research Group    Age  \n",
      "2237      1.355       M              CN  56.87  \n",
      "2236      1.231       M              CN  57.07  \n",
      "2235      1.309       M              CN  68.12  \n",
      "2234      1.436       M              CN  80.80  \n",
      "2233      1.625       M              CN  86.20  \n",
      "\n",
      "[5 rows x 441 columns]\n",
      "<class 'pandas.core.frame.DataFrame'>\n",
      "Int64Index: 1215 entries, 2237 to 767\n",
      "Columns: 441 entries, lh_bankssts_area to Age\n",
      "dtypes: float64(286), int64(151), object(4)\n",
      "memory usage: 4.1+ MB\n",
      "None\n"
     ]
    }
   ],
   "source": [
    "#Filter out duplicate values, keeping the first value\n",
    "duplicates=sortedfiltered.drop_duplicates(subset='SID',keep = 'first') \n",
    "print(duplicates.head())\n",
    "print(duplicates.info())\n"
   ]
  },
  {
   "cell_type": "code",
   "execution_count": 6,
   "metadata": {},
   "outputs": [
    {
     "name": "stdout",
     "output_type": "stream",
     "text": [
      "<class 'pandas.core.frame.DataFrame'>\n",
      "Int64Index: 1215 entries, 2237 to 767\n",
      "Columns: 437 entries, lh_bankssts_area to Research Group\n",
      "dtypes: float64(284), int64(152), object(1)\n",
      "memory usage: 4.1+ MB\n"
     ]
    },
    {
     "name": "stderr",
     "output_type": "stream",
     "text": [
      "/home/fs838120/anaconda3/lib/python3.7/site-packages/ipykernel_launcher.py:3: SettingWithCopyWarning: \n",
      "A value is trying to be set on a copy of a slice from a DataFrame.\n",
      "Try using .loc[row_indexer,col_indexer] = value instead\n",
      "\n",
      "See the caveats in the documentation: http://pandas.pydata.org/pandas-docs/stable/user_guide/indexing.html#returning-a-view-versus-a-copy\n",
      "  This is separate from the ipykernel package so we can avoid doing imports until\n"
     ]
    }
   ],
   "source": [
    "#Encode labels and drop unecessary columns\n",
    "label_quality = LabelEncoder()\n",
    "duplicates['Research Group'] = label_quality.fit_transform(duplicates['Research Group'])\n",
    "train=duplicates.copy()\n",
    "train.drop(['Age','SID', 'total CNR','Study'], axis=1, inplace=True)\n",
    "train.info()"
   ]
  },
  {
   "cell_type": "code",
   "execution_count": 7,
   "metadata": {},
   "outputs": [
    {
     "name": "stdout",
     "output_type": "stream",
     "text": [
      "<class 'pandas.core.frame.DataFrame'>\n",
      "Int64Index: 575 entries, 2237 to 767\n",
      "Columns: 437 entries, lh_bankssts_area to Research Group\n",
      "dtypes: float64(284), int64(152), object(1)\n",
      "memory usage: 1.9+ MB\n"
     ]
    },
    {
     "data": {
      "text/html": [
       "<div>\n",
       "<style scoped>\n",
       "    .dataframe tbody tr th:only-of-type {\n",
       "        vertical-align: middle;\n",
       "    }\n",
       "\n",
       "    .dataframe tbody tr th {\n",
       "        vertical-align: top;\n",
       "    }\n",
       "\n",
       "    .dataframe thead th {\n",
       "        text-align: right;\n",
       "    }\n",
       "</style>\n",
       "<table border=\"1\" class=\"dataframe\">\n",
       "  <thead>\n",
       "    <tr style=\"text-align: right;\">\n",
       "      <th></th>\n",
       "      <th>lh_bankssts_area</th>\n",
       "      <th>lh_caudalanteriorcingulate_area</th>\n",
       "      <th>lh_caudalmiddlefrontal_area</th>\n",
       "      <th>lh_cuneus_area</th>\n",
       "      <th>lh_entorhinal_area</th>\n",
       "      <th>lh_fusiform_area</th>\n",
       "      <th>lh_inferiorparietal_area</th>\n",
       "      <th>lh_inferiortemporal_area</th>\n",
       "      <th>lh_isthmuscingulate_area</th>\n",
       "      <th>lh_lateraloccipital_area</th>\n",
       "      <th>...</th>\n",
       "      <th>right_parasubiculum</th>\n",
       "      <th>right_molecular_layer_HP</th>\n",
       "      <th>right_GC-ML-DG</th>\n",
       "      <th>right_CA3</th>\n",
       "      <th>right_CA4</th>\n",
       "      <th>right_fimbria</th>\n",
       "      <th>right_HATA</th>\n",
       "      <th>right_Whole_hippocampus</th>\n",
       "      <th>Gender</th>\n",
       "      <th>Research Group</th>\n",
       "    </tr>\n",
       "  </thead>\n",
       "  <tbody>\n",
       "    <tr>\n",
       "      <td>2220</td>\n",
       "      <td>862</td>\n",
       "      <td>530</td>\n",
       "      <td>2037</td>\n",
       "      <td>1289</td>\n",
       "      <td>535</td>\n",
       "      <td>2929</td>\n",
       "      <td>3952</td>\n",
       "      <td>3047</td>\n",
       "      <td>819</td>\n",
       "      <td>4568</td>\n",
       "      <td>...</td>\n",
       "      <td>46.461919</td>\n",
       "      <td>434.595503</td>\n",
       "      <td>231.404698</td>\n",
       "      <td>162.388210</td>\n",
       "      <td>197.017748</td>\n",
       "      <td>70.285099</td>\n",
       "      <td>56.145862</td>\n",
       "      <td>2857.525319</td>\n",
       "      <td>F</td>\n",
       "      <td>1</td>\n",
       "    </tr>\n",
       "    <tr>\n",
       "      <td>2219</td>\n",
       "      <td>816</td>\n",
       "      <td>547</td>\n",
       "      <td>2181</td>\n",
       "      <td>1408</td>\n",
       "      <td>513</td>\n",
       "      <td>2911</td>\n",
       "      <td>3146</td>\n",
       "      <td>2675</td>\n",
       "      <td>838</td>\n",
       "      <td>4583</td>\n",
       "      <td>...</td>\n",
       "      <td>50.964043</td>\n",
       "      <td>539.436587</td>\n",
       "      <td>284.107845</td>\n",
       "      <td>190.369238</td>\n",
       "      <td>238.195497</td>\n",
       "      <td>79.764626</td>\n",
       "      <td>66.806796</td>\n",
       "      <td>3344.279277</td>\n",
       "      <td>F</td>\n",
       "      <td>1</td>\n",
       "    </tr>\n",
       "    <tr>\n",
       "      <td>2216</td>\n",
       "      <td>899</td>\n",
       "      <td>607</td>\n",
       "      <td>1827</td>\n",
       "      <td>1365</td>\n",
       "      <td>378</td>\n",
       "      <td>3123</td>\n",
       "      <td>4316</td>\n",
       "      <td>3046</td>\n",
       "      <td>787</td>\n",
       "      <td>5403</td>\n",
       "      <td>...</td>\n",
       "      <td>32.580984</td>\n",
       "      <td>532.200366</td>\n",
       "      <td>292.456888</td>\n",
       "      <td>210.220181</td>\n",
       "      <td>250.866354</td>\n",
       "      <td>33.304657</td>\n",
       "      <td>62.685547</td>\n",
       "      <td>3150.591207</td>\n",
       "      <td>F</td>\n",
       "      <td>1</td>\n",
       "    </tr>\n",
       "    <tr>\n",
       "      <td>2210</td>\n",
       "      <td>880</td>\n",
       "      <td>779</td>\n",
       "      <td>1821</td>\n",
       "      <td>1507</td>\n",
       "      <td>375</td>\n",
       "      <td>3069</td>\n",
       "      <td>4479</td>\n",
       "      <td>3630</td>\n",
       "      <td>925</td>\n",
       "      <td>4488</td>\n",
       "      <td>...</td>\n",
       "      <td>48.457593</td>\n",
       "      <td>581.810977</td>\n",
       "      <td>327.605965</td>\n",
       "      <td>251.333255</td>\n",
       "      <td>279.380102</td>\n",
       "      <td>59.665453</td>\n",
       "      <td>54.737106</td>\n",
       "      <td>3514.416839</td>\n",
       "      <td>F</td>\n",
       "      <td>1</td>\n",
       "    </tr>\n",
       "    <tr>\n",
       "      <td>2208</td>\n",
       "      <td>859</td>\n",
       "      <td>571</td>\n",
       "      <td>1602</td>\n",
       "      <td>1272</td>\n",
       "      <td>264</td>\n",
       "      <td>2551</td>\n",
       "      <td>3907</td>\n",
       "      <td>2887</td>\n",
       "      <td>711</td>\n",
       "      <td>4722</td>\n",
       "      <td>...</td>\n",
       "      <td>39.616299</td>\n",
       "      <td>461.266237</td>\n",
       "      <td>260.890460</td>\n",
       "      <td>199.302961</td>\n",
       "      <td>220.133679</td>\n",
       "      <td>43.914119</td>\n",
       "      <td>47.364900</td>\n",
       "      <td>2811.495889</td>\n",
       "      <td>F</td>\n",
       "      <td>1</td>\n",
       "    </tr>\n",
       "  </tbody>\n",
       "</table>\n",
       "<p>5 rows × 437 columns</p>\n",
       "</div>"
      ],
      "text/plain": [
       "      lh_bankssts_area  lh_caudalanteriorcingulate_area  \\\n",
       "2220               862                              530   \n",
       "2219               816                              547   \n",
       "2216               899                              607   \n",
       "2210               880                              779   \n",
       "2208               859                              571   \n",
       "\n",
       "      lh_caudalmiddlefrontal_area  lh_cuneus_area  lh_entorhinal_area  \\\n",
       "2220                         2037            1289                 535   \n",
       "2219                         2181            1408                 513   \n",
       "2216                         1827            1365                 378   \n",
       "2210                         1821            1507                 375   \n",
       "2208                         1602            1272                 264   \n",
       "\n",
       "      lh_fusiform_area  lh_inferiorparietal_area  lh_inferiortemporal_area  \\\n",
       "2220              2929                      3952                      3047   \n",
       "2219              2911                      3146                      2675   \n",
       "2216              3123                      4316                      3046   \n",
       "2210              3069                      4479                      3630   \n",
       "2208              2551                      3907                      2887   \n",
       "\n",
       "      lh_isthmuscingulate_area  lh_lateraloccipital_area  ...  \\\n",
       "2220                       819                      4568  ...   \n",
       "2219                       838                      4583  ...   \n",
       "2216                       787                      5403  ...   \n",
       "2210                       925                      4488  ...   \n",
       "2208                       711                      4722  ...   \n",
       "\n",
       "      right_parasubiculum  right_molecular_layer_HP  right_GC-ML-DG  \\\n",
       "2220            46.461919                434.595503      231.404698   \n",
       "2219            50.964043                539.436587      284.107845   \n",
       "2216            32.580984                532.200366      292.456888   \n",
       "2210            48.457593                581.810977      327.605965   \n",
       "2208            39.616299                461.266237      260.890460   \n",
       "\n",
       "       right_CA3   right_CA4  right_fimbria  right_HATA  \\\n",
       "2220  162.388210  197.017748      70.285099   56.145862   \n",
       "2219  190.369238  238.195497      79.764626   66.806796   \n",
       "2216  210.220181  250.866354      33.304657   62.685547   \n",
       "2210  251.333255  279.380102      59.665453   54.737106   \n",
       "2208  199.302961  220.133679      43.914119   47.364900   \n",
       "\n",
       "      right_Whole_hippocampus  Gender  Research Group  \n",
       "2220              2857.525319       F               1  \n",
       "2219              3344.279277       F               1  \n",
       "2216              3150.591207       F               1  \n",
       "2210              3514.416839       F               1  \n",
       "2208              2811.495889       F               1  \n",
       "\n",
       "[5 rows x 437 columns]"
      ]
     },
     "execution_count": 7,
     "metadata": {},
     "output_type": "execute_result"
    }
   ],
   "source": [
    "#filter out by male and female\n",
    "male=train[train['Gender']=='M']\n",
    "male.shape\n",
    "male.head()\n",
    "male.info()\n",
    "\n",
    "female=train[train['Gender']=='F']\n",
    "female.shape\n",
    "female.head()"
   ]
  },
  {
   "cell_type": "code",
   "execution_count": 8,
   "metadata": {},
   "outputs": [],
   "source": [
    "#Drop category labels and gender labels\n",
    "y_male = male[\"Research Group\"]\n",
    "X_male = male.drop([\"Research Group\",'Gender'], axis = 1)"
   ]
  },
  {
   "cell_type": "code",
   "execution_count": 9,
   "metadata": {},
   "outputs": [],
   "source": [
    "#Normalise the data between 0 and 1\n",
    "sc=StandardScaler()\n",
    "X_scaled_male = sc.fit_transform(X_male)"
   ]
  },
  {
   "cell_type": "code",
   "execution_count": 10,
   "metadata": {},
   "outputs": [],
   "source": [
    "#Train test splic\n",
    "X_train, X_test, y_train, y_test = train_test_split(X_scaled_male, y_male,test_size = 0.3, random_state=42)   #scale the test data as well"
   ]
  },
  {
   "cell_type": "code",
   "execution_count": 12,
   "metadata": {},
   "outputs": [],
   "source": [
    "\n",
    "#Initiate the classifier\n",
    "clf = SVC(kernel='linear') # Linear Kernel\n",
    "#Train the model using the training sets\n",
    "clf.fit(X_train, y_train)\n",
    "#Predict the response for test dataset\n",
    "y_pred = clf.predict(X_test)\n"
   ]
  },
  {
   "cell_type": "code",
   "execution_count": 11,
   "metadata": {},
   "outputs": [
    {
     "name": "stdout",
     "output_type": "stream",
     "text": [
      "So, Our accuracy Score is: 0.8786\n",
      "[[ 46  13]\n",
      " [  8 106]]\n",
      "              precision    recall  f1-score   support\n",
      "\n",
      "           0       0.85      0.78      0.81        59\n",
      "           1       0.89      0.93      0.91       114\n",
      "\n",
      "    accuracy                           0.88       173\n",
      "   macro avg       0.87      0.85      0.86       173\n",
      "weighted avg       0.88      0.88      0.88       173\n",
      "\n"
     ]
    }
   ],
   "source": [
    "#Print out the statistics from the classifier\n",
    "print (\"So, Our accuracy Score is: {}\".format(round(accuracy_score(y_pred, y_test),4)))\n",
    "print(confusion_matrix(y_test, y_pred))\n",
    "print(classification_report(y_test,y_pred))"
   ]
  },
  {
   "cell_type": "code",
   "execution_count": 12,
   "metadata": {},
   "outputs": [
    {
     "name": "stdout",
     "output_type": "stream",
     "text": [
      "0.8547427891763306\n"
     ]
    },
    {
     "data": {
      "image/png": "[encoded data removed]",
      "text/plain": [
       "<Figure size 792x648 with 1 Axes>"
      ]
     },
     "metadata": {
      "needs_background": "light"
     },
     "output_type": "display_data"
    },
    {
     "data": {
      "image/png": "[encoded data removed]",
      "text/plain": [
       "<Figure size 792x648 with 1 Axes>"
      ]
     },
     "metadata": {
      "needs_background": "light"
     },
     "output_type": "display_data"
    }
   ],
   "source": [
    "#Validating the fit\n",
    "#AUC & ROC Curve\n",
    "FPR, TPR, _ = roc_curve(y_test, y_pred)\n",
    "ROC_AUC = auc(FPR, TPR)\n",
    "print (ROC_AUC)\n",
    "\n",
    "plt.figure(figsize =[11,9])\n",
    "plt.plot(FPR, TPR, label= 'ROC curve(area = %0.2f)'%ROC_AUC, linewidth= 4)\n",
    "plt.plot([0,1],[0,1], 'k--', linewidth = 4)\n",
    "plt.xlim([0.0,1.0])\n",
    "plt.ylim([0.0,1.05])\n",
    "plt.xlabel('False Positive Rate', fontsize = 18)\n",
    "plt.ylabel('True Positive Rate', fontsize = 18)\n",
    "plt.title('ROC for Alzheimers Classification', fontsize= 18)\n",
    "plt.show()\n",
    "#Precision recall curve\n",
    "precision, recall, _ = precision_recall_curve(y_test, y_pred)\n",
    "PR_AUC = auc(recall, precision)\n",
    "\n",
    "plt.figure(figsize=[11,9])\n",
    "plt.plot(recall, precision, label='PR curve (area = %0.2f)' % PR_AUC, linewidth=4)\n",
    "plt.xlabel('Recall', fontsize=18)\n",
    "plt.ylabel('Precision', fontsize=18)\n",
    "plt.title('Precision Recall Curve for Alzheimers Classification', fontsize=18)\n",
    "plt.legend(loc=\"lower right\")\n",
    "plt.show()\n"
   ]
  },
  {
   "cell_type": "code",
   "execution_count": 13,
   "metadata": {},
   "outputs": [
    {
     "name": "stdout",
     "output_type": "stream",
     "text": [
      "Cross-Validation accuracy scores:[0.85093168 0.8757764  0.90062112 0.88198758 0.8447205  0.8757764\n",
      " 0.8757764  0.86335404 0.8447205  0.86335404]\n",
      "Mean Cross-Validation accuracy score: 0.8677\n"
     ]
    }
   ],
   "source": [
    "#Now with cross validation 10 fold\n",
    "cv = StratifiedShuffleSplit(n_splits = 10, test_size = .4, random_state = 42 )\n",
    "accuracies = cross_val_score(clf, X_train,y_train, cv  = cv, scoring='accuracy')\n",
    "print (\"Cross-Validation accuracy scores:{}\".format(accuracies))\n",
    "print (\"Mean Cross-Validation accuracy score: {}\".format(round(accuracies.mean(),5)))"
   ]
  },
  {
   "cell_type": "code",
   "execution_count": 14,
   "metadata": {},
   "outputs": [
    {
     "name": "stdout",
     "output_type": "stream",
     "text": [
      "{'C': 15, 'degree': 1, 'gamma': 0.0001, 'kernel': 'poly'}\n",
      "0.8859504132231406\n"
     ]
    }
   ],
   "source": [
    "#initiate grid search \n",
    "cv = StratifiedShuffleSplit(n_splits=10, test_size=.30, random_state=42)\n",
    "paramgrid = {\"kernel\" :[\"linear\", \"rbf\", \"poly\"],\"C\":np.arange(5,20),\"gamma\":[1e-12,1e-8,1e-4],\"degree\" : [0, 1, 2, 3, 4, 5, 6]}\n",
    "model=SVC()\n",
    "model_grid = GridSearchCV(model,paramgrid,cv=cv,iid=False)\n",
    "model_grid.fit(X_train,y_train)\n",
    "print(model_grid.best_params_)\n",
    "print(model_grid.best_score_)\n",
    "\n",
    "svc_ran_grid = model_grid.best_estimator_\n",
    "svc_ran_grid.score(X_test,y_test)\n",
    "y_pred = svc_ran_grid.predict(X_test)"
   ]
  },
  {
   "cell_type": "code",
   "execution_count": 15,
   "metadata": {},
   "outputs": [
    {
     "name": "stdout",
     "output_type": "stream",
     "text": [
      "So, Our accuracy Score is: 0.9017\n",
      "[[ 47  12]\n",
      " [  5 109]]\n",
      "              precision    recall  f1-score   support\n",
      "\n",
      "           0       0.90      0.80      0.85        59\n",
      "           1       0.90      0.96      0.93       114\n",
      "\n",
      "    accuracy                           0.90       173\n",
      "   macro avg       0.90      0.88      0.89       173\n",
      "weighted avg       0.90      0.90      0.90       173\n",
      "\n",
      "0.8763752601843592\n"
     ]
    },
    {
     "data": {
      "image/png": "[encoded data removed]",
      "text/plain": [
       "<Figure size 792x648 with 1 Axes>"
      ]
     },
     "metadata": {
      "needs_background": "light"
     },
     "output_type": "display_data"
    },
    {
     "data": {
      "image/png": "[encoded data removed]",
      "text/plain": [
       "<Figure size 792x648 with 1 Axes>"
      ]
     },
     "metadata": {
      "needs_background": "light"
     },
     "output_type": "display_data"
    }
   ],
   "source": [
    "print (\"So, Our accuracy Score is: {}\".format(round(accuracy_score(y_pred, y_test),4)))\n",
    "print(confusion_matrix(y_test, y_pred))\n",
    "print(classification_report(y_test,y_pred))\n",
    "\n",
    "FPR, TPR, _ = roc_curve(y_test, y_pred)\n",
    "ROC_AUC = auc(FPR, TPR)\n",
    "print (ROC_AUC)\n",
    "\n",
    "plt.figure(figsize =[11,9])\n",
    "plt.plot(FPR, TPR, label= 'ROC curve(area = %0.2f)'%ROC_AUC, linewidth= 4)\n",
    "plt.plot([0,1],[0,1], 'k--', linewidth = 4)\n",
    "plt.xlim([0.0,1.0])\n",
    "plt.ylim([0.0,1.05])\n",
    "plt.xlabel('False Positive Rate', fontsize = 18)\n",
    "plt.ylabel('True Positive Rate', fontsize = 18)\n",
    "plt.title('ROC for Atlas classification', fontsize= 18)\n",
    "plt.show()\n",
    "#Precision recall curve\n",
    "precision, recall, _ = precision_recall_curve(y_test, y_pred)\n",
    "PR_AUC = auc(recall, precision)\n",
    "\n",
    "plt.figure(figsize=[11,9])\n",
    "plt.plot(recall, precision, label='PR curve (area = %0.2f)' % PR_AUC, linewidth=4)\n",
    "plt.xlabel('Recall', fontsize=18)\n",
    "plt.ylabel('Precision', fontsize=18)\n",
    "plt.title('Precision Recall Curve for Atlas classification', fontsize=18)\n",
    "plt.legend(loc=\"lower right\")\n",
    "plt.show()"
   ]
  },
  {
   "cell_type": "markdown",
   "metadata": {},
   "source": [
    "# Bagging and Boosting"
   ]
  },
  {
   "cell_type": "code",
   "execution_count": 16,
   "metadata": {},
   "outputs": [],
   "source": [
    "from sklearn.linear_model import LogisticRegression\n",
    "from sklearn.ensemble import RandomForestClassifier\n",
    "from sklearn.svm import SVC\n",
    "from sklearn.ensemble import VotingClassifier\n",
    "from xgboost import XGBClassifier\n"
   ]
  },
  {
   "cell_type": "code",
   "execution_count": 17,
   "metadata": {},
   "outputs": [],
   "source": [
    "#Initiate the classifier\n",
    "clf = XGBClassifier() # Linear Kernel\n",
    "#Train the model using the training sets\n",
    "clf.fit(X_train, y_train)\n",
    "#Predict the response for test dataset\n",
    "y_pred = clf.predict(X_test)\n"
   ]
  },
  {
   "cell_type": "code",
   "execution_count": 18,
   "metadata": {},
   "outputs": [
    {
     "name": "stdout",
     "output_type": "stream",
     "text": [
      "So, Our accuracy Score is: 0.8613\n",
      "[[ 45  14]\n",
      " [ 10 104]]\n",
      "              precision    recall  f1-score   support\n",
      "\n",
      "           0       0.82      0.76      0.79        59\n",
      "           1       0.88      0.91      0.90       114\n",
      "\n",
      "    accuracy                           0.86       173\n",
      "   macro avg       0.85      0.84      0.84       173\n",
      "weighted avg       0.86      0.86      0.86       173\n",
      "\n"
     ]
    }
   ],
   "source": [
    "#Print out the statistics from the classifier\n",
    "print (\"So, Our accuracy Score is: {}\".format(round(accuracy_score(y_pred, y_test),4)))\n",
    "print(confusion_matrix(y_test, y_pred))\n",
    "print(classification_report(y_test,y_pred))"
   ]
  },
  {
   "cell_type": "code",
   "execution_count": 19,
   "metadata": {},
   "outputs": [
    {
     "name": "stdout",
     "output_type": "stream",
     "text": [
      "{'max_depth': 3, 'min_child_weight': 1, 'n_estimators': 400}\n",
      "0.8752066115702479\n"
     ]
    }
   ],
   "source": [
    "cv = StratifiedShuffleSplit(n_splits=10, test_size=.30, random_state=42)\n",
    "paramgrid = {'n_estimators':range(100,500,100),'max_depth':range(3,10,2),'min_child_weight':range(1,6,2)}\n",
    "model=XGBClassifier()\n",
    "model_grid = GridSearchCV(model,paramgrid,cv=cv,iid=False)\n",
    "model_grid.fit(X_train,y_train)\n",
    "print(model_grid.best_params_)\n",
    "print(model_grid.best_score_)\n",
    "\n",
    "xgb_grid = model_grid.best_estimator_\n",
    "xgb_grid.score(X_test,y_test)\n",
    "y_pred = xgb_grid.predict(X_test)"
   ]
  },
  {
   "cell_type": "code",
   "execution_count": 20,
   "metadata": {},
   "outputs": [],
   "source": [
    "cv = StratifiedShuffleSplit(n_splits = 10, test_size = .4, random_state = 42 )\n",
    "# create the sub models\n",
    "estimators = []\n",
    "model1 = LogisticRegression()\n",
    "estimators.append(('logistic', model1))\n",
    "model2 = XGBClassifier(max_depth=2, min_child_weight=1, n_estimators=400)\n",
    "estimators.append(('cart', model2))\n",
    "model3 = SVC(C= 15, degree= 1, gamma= 0.0001, kernel= 'poly')\n",
    "estimators.append(('svm', model3))"
   ]
  },
  {
   "cell_type": "code",
   "execution_count": 21,
   "metadata": {},
   "outputs": [
    {
     "name": "stderr",
     "output_type": "stream",
     "text": [
      "/home/fs838120/anaconda3/lib/python3.7/site-packages/sklearn/linear_model/logistic.py:432: FutureWarning: Default solver will be changed to 'lbfgs' in 0.22. Specify a solver to silence this warning.\n",
      "  FutureWarning)\n"
     ]
    },
    {
     "data": {
      "text/plain": [
       "0.9190751445086706"
      ]
     },
     "execution_count": 21,
     "metadata": {},
     "output_type": "execute_result"
    }
   ],
   "source": [
    "# create the ensemble model\n",
    "ensemble = VotingClassifier(estimators,voting='hard')\n",
    "results = ensemble.fit(X_train,y_train)\n",
    "ensemble.score(X_test,y_test)"
   ]
  },
  {
   "cell_type": "code",
   "execution_count": 22,
   "metadata": {},
   "outputs": [
    {
     "name": "stderr",
     "output_type": "stream",
     "text": [
      "/home/fs838120/anaconda3/lib/python3.7/site-packages/sklearn/linear_model/logistic.py:432: FutureWarning: Default solver will be changed to 'lbfgs' in 0.22. Specify a solver to silence this warning.\n",
      "  FutureWarning)\n",
      "/home/fs838120/anaconda3/lib/python3.7/site-packages/sklearn/linear_model/logistic.py:432: FutureWarning: Default solver will be changed to 'lbfgs' in 0.22. Specify a solver to silence this warning.\n",
      "  FutureWarning)\n",
      "/home/fs838120/anaconda3/lib/python3.7/site-packages/sklearn/linear_model/logistic.py:432: FutureWarning: Default solver will be changed to 'lbfgs' in 0.22. Specify a solver to silence this warning.\n",
      "  FutureWarning)\n",
      "/home/fs838120/anaconda3/lib/python3.7/site-packages/sklearn/linear_model/logistic.py:432: FutureWarning: Default solver will be changed to 'lbfgs' in 0.22. Specify a solver to silence this warning.\n",
      "  FutureWarning)\n",
      "/home/fs838120/anaconda3/lib/python3.7/site-packages/sklearn/linear_model/logistic.py:432: FutureWarning: Default solver will be changed to 'lbfgs' in 0.22. Specify a solver to silence this warning.\n",
      "  FutureWarning)\n",
      "/home/fs838120/anaconda3/lib/python3.7/site-packages/sklearn/linear_model/logistic.py:432: FutureWarning: Default solver will be changed to 'lbfgs' in 0.22. Specify a solver to silence this warning.\n",
      "  FutureWarning)\n",
      "/home/fs838120/anaconda3/lib/python3.7/site-packages/sklearn/linear_model/logistic.py:432: FutureWarning: Default solver will be changed to 'lbfgs' in 0.22. Specify a solver to silence this warning.\n",
      "  FutureWarning)\n",
      "/home/fs838120/anaconda3/lib/python3.7/site-packages/sklearn/linear_model/logistic.py:432: FutureWarning: Default solver will be changed to 'lbfgs' in 0.22. Specify a solver to silence this warning.\n",
      "  FutureWarning)\n",
      "/home/fs838120/anaconda3/lib/python3.7/site-packages/sklearn/linear_model/logistic.py:432: FutureWarning: Default solver will be changed to 'lbfgs' in 0.22. Specify a solver to silence this warning.\n",
      "  FutureWarning)\n",
      "/home/fs838120/anaconda3/lib/python3.7/site-packages/sklearn/linear_model/logistic.py:432: FutureWarning: Default solver will be changed to 'lbfgs' in 0.22. Specify a solver to silence this warning.\n",
      "  FutureWarning)\n"
     ]
    },
    {
     "name": "stdout",
     "output_type": "stream",
     "text": [
      "Cross-Validation accuracy scores:[0.89440994 0.88819876 0.9068323  0.89440994 0.89440994 0.9068323\n",
      " 0.88198758 0.9068323  0.88819876 0.88198758]\n",
      "Mean Cross-Validation accuracy score: 0.89441\n"
     ]
    }
   ],
   "source": [
    "accuracies = cross_val_score(ensemble, X_train,y_train, cv  = cv, scoring='accuracy')\n",
    "print (\"Cross-Validation accuracy scores:{}\".format(accuracies))\n",
    "print (\"Mean Cross-Validation accuracy score: {}\".format(round(accuracies.mean(),5)))"
   ]
  },
  {
   "cell_type": "code",
   "execution_count": 23,
   "metadata": {},
   "outputs": [],
   "source": [
    "y_pred = ensemble.predict(X_test)"
   ]
  },
  {
   "cell_type": "code",
   "execution_count": 24,
   "metadata": {},
   "outputs": [
    {
     "name": "stdout",
     "output_type": "stream",
     "text": [
      "So, Our accuracy Score is: 0.9191\n",
      "[[ 50   9]\n",
      " [  5 109]]\n",
      "              precision    recall  f1-score   support\n",
      "\n",
      "           0       0.91      0.85      0.88        59\n",
      "           1       0.92      0.96      0.94       114\n",
      "\n",
      "    accuracy                           0.92       173\n",
      "   macro avg       0.92      0.90      0.91       173\n",
      "weighted avg       0.92      0.92      0.92       173\n",
      "\n",
      "0.9017989889979184\n"
     ]
    },
    {
     "data": {
      "image/png": "[encoded data removed]",
      "text/plain": [
       "<Figure size 792x648 with 1 Axes>"
      ]
     },
     "metadata": {
      "needs_background": "light"
     },
     "output_type": "display_data"
    },
    {
     "data": {
      "image/png": "[encoded data removed]",
      "text/plain": [
       "<Figure size 792x648 with 1 Axes>"
      ]
     },
     "metadata": {
      "needs_background": "light"
     },
     "output_type": "display_data"
    }
   ],
   "source": [
    "print (\"So, Our accuracy Score is: {}\".format(round(accuracy_score(y_pred, y_test),4)))\n",
    "print(confusion_matrix(y_test, y_pred))\n",
    "print(classification_report(y_test,y_pred))\n",
    "\n",
    "FPR, TPR, _ = roc_curve(y_test, y_pred)\n",
    "ROC_AUC = auc(FPR, TPR)\n",
    "print (ROC_AUC)\n",
    "\n",
    "plt.figure(figsize =[11,9])\n",
    "plt.plot(FPR, TPR, label= 'ROC curve(area = %0.2f)'%ROC_AUC, linewidth= 4)\n",
    "plt.plot([0,1],[0,1], 'k--', linewidth = 4)\n",
    "plt.xlim([0.0,1.0])\n",
    "plt.ylim([0.0,1.05])\n",
    "plt.xlabel('False Positive Rate', fontsize = 18)\n",
    "plt.ylabel('True Positive Rate', fontsize = 18)\n",
    "plt.title('ROC for Atlas classification', fontsize= 18)\n",
    "plt.show()\n",
    "#Precision recall curve\n",
    "precision, recall, _ = precision_recall_curve(y_test, y_pred)\n",
    "PR_AUC = auc(recall, precision)\n",
    "\n",
    "plt.figure(figsize=[11,9])\n",
    "plt.plot(recall, precision, label='PR curve (area = %0.2f)' % PR_AUC, linewidth=4)\n",
    "plt.xlabel('Recall', fontsize=18)\n",
    "plt.ylabel('Precision', fontsize=18)\n",
    "plt.title('Precision Recall Curve for Atlas classification', fontsize=18)\n",
    "plt.legend(loc=\"lower right\")\n",
    "plt.show()"
   ]
  },
  {
   "cell_type": "code",
   "execution_count": null,
   "metadata": {},
   "outputs": [],
   "source": []
  }
 ],
 "metadata": {
  "kernelspec": {
   "display_name": "Python 3",
   "language": "python",
   "name": "python3"
  },
  "language_info": {
   "codemirror_mode": {
    "name": "ipython",
    "version": 3
   },
   "file_extension": ".py",
   "mimetype": "text/x-python",
   "name": "python",
   "nbconvert_exporter": "python",
   "pygments_lexer": "ipython3",
   "version": "3.7.4"
  }
 },
 "nbformat": 4,
 "nbformat_minor": 2
}
